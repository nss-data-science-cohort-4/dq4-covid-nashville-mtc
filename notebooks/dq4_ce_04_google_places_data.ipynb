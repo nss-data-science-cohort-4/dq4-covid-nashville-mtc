{
 "cells": [
  {
   "cell_type": "code",
   "execution_count": 3,
   "metadata": {},
   "outputs": [],
   "source": [
    "import json\n",
    "import pandas as pd\n",
    "import numpy as np\n",
    "import requests\n",
    "import matplotlib.pyplot as plt\n",
    "import seaborn as sns\n",
    "import scipy.stats as stats\n",
    "import re\n",
    "import plotly.express as px\n",
    "import plotly.graph_objects as go\n",
    "import requests\n",
    "from bs4 import BeautifulSoup as BS\n",
    "from io import StringIO\n",
    "from pandas.io.json import json_normalize\n",
    "import glob\n",
    "%matplotlib inline\n",
    "from fuzzywuzzy import fuzz\n",
    "from fuzzywuzzy import process"
   ]
  },
  {
   "cell_type": "markdown",
   "metadata": {},
   "source": [
    "### Recap of question for context\n",
    "\n",
    "The dataset from data.nashville.gov includes geospatial information, which allows you to see where violations occurred geographically, but it does not provide information in regard to the specific businesses that were reported. In this part, you should explore the businesses and types of businesses that have been reported. To attempt to answer this, you have been provided data from the Google Places API. Each file is formatted as a json. The values are as follows:\n",
    "\n",
    "**mapped_location**: The mapped location from the hubNashville dataset\n",
    "\n",
    "**address**: The address from the hubNashville dataset\n",
    "\n",
    "**results**: The first five results from a Google Maps API nearbysearch, ranked by proximity to the Mapped Location. See https://developers.google.com/places/web-service/search#PlaceSearchResponses for more details on the fields in the results.\n",
    "\n",
    "Take these results and use them to match as many violations as possible to a business. Warning: it will not be possible to match all violations to a business, and there will be ambiguities when trying to do this match, so do not spend all of your time on this task. What do you find when you look into the types of businesses that have been reported for COVID violations?"
   ]
  },
  {
   "cell_type": "code",
   "execution_count": 4,
   "metadata": {},
   "outputs": [],
   "source": [
    "pd.set_option('display.max_rows', 500)\n",
    "pd.set_option('display.max_columns', 500)"
   ]
  },
  {
   "cell_type": "markdown",
   "metadata": {},
   "source": [
    "### Load all 49 JSON files with Google API data"
   ]
  },
  {
   "cell_type": "markdown",
   "metadata": {},
   "source": [
    "#### Use glob to snag all the target files and merge their contents into one master JSON file\n",
    "\n",
    "We could use glob to read in the files and store the contents of each as an entry in a list. But then we'd be adding yet another level of lists upon lists upon lists of dicts.\n",
    "\n",
    "Instead of using .append(), use .extend().  This allows us to read in each JSON file, extract the contents of it and add it to the one before, avoiding the creation of even more layers! \n",
    "\n",
    "Then we take the resulting list and re-write it back into a JSON file.  If we try to use the list with pd.json_normalize() it won't work, so it must be written as JSON, saved and read back in. "
   ]
  },
  {
   "cell_type": "code",
   "execution_count": 5,
   "metadata": {},
   "outputs": [],
   "source": [
    "places=[] #create empty variable in which to store the contents of the 49 JSON files\n",
    "\n",
    "for file in glob.glob('../data/google_places_results/results_*.json'): #for every file path in this glob list\n",
    "    \n",
    "    with open(file) as filein:  #open that JSON file\n",
    "        \n",
    "        places.extend(json.load(filein))  #load in the JSON file and tack on the contents to the helper list variable\n",
    "        \n",
    "with open('../data/google_places_results/google_results_merged.json','w') as outfile:   #Define the file path for the ouput and pass in the 'write' argument\n",
    "    json.dump(places, outfile)     #Write the merged file as output "
   ]
  },
  {
   "cell_type": "markdown",
   "metadata": {},
   "source": [
    "**Read in the merged JSON file and check the output**"
   ]
  },
  {
   "cell_type": "code",
   "execution_count": 6,
   "metadata": {},
   "outputs": [],
   "source": [
    "with open('../data/google_places_results/google_results_merged.json', \"r\") as fi:\n",
    "    all_places = json.load(fi)"
   ]
  },
  {
   "cell_type": "code",
   "execution_count": 7,
   "metadata": {},
   "outputs": [
    {
     "name": "stdout",
     "output_type": "stream",
     "text": [
      "<class 'list'> 4829\n"
     ]
    }
   ],
   "source": [
    "#check output\n",
    "print(type(all_places),len(all_places))"
   ]
  },
  {
   "cell_type": "code",
   "execution_count": 8,
   "metadata": {},
   "outputs": [
    {
     "data": {
      "text/plain": [
       "dict_keys(['mapped_location', 'address', 'results'])"
      ]
     },
     "execution_count": 8,
     "metadata": {},
     "output_type": "execute_result"
    }
   ],
   "source": [
    "#Double check first entry in the resulting list\n",
    "all_places[0]\n",
    "\n",
    "all_places[0].keys()"
   ]
  },
  {
   "cell_type": "markdown",
   "metadata": {},
   "source": [
    "### Use pd.json_normalize() to turn the JSON file into a dataframe."
   ]
  },
  {
   "cell_type": "code",
   "execution_count": 9,
   "metadata": {},
   "outputs": [],
   "source": [
    "all_places = pd.json_normalize(all_places,   #pass in name of JSON file\n",
    "                  record_path='results',     #Specify which path level of the JSON to unpack\n",
    "                 meta=['mapped_location','address'])   #Specify any other elements outside that path to include"
   ]
  },
  {
   "cell_type": "code",
   "execution_count": 10,
   "metadata": {
    "collapsed": true
   },
   "outputs": [
    {
     "name": "stdout",
     "output_type": "stream",
     "text": [
      "<class 'pandas.core.frame.DataFrame'>\n",
      "RangeIndex: 24145 entries, 0 to 24144\n",
      "Data columns (total 24 columns):\n",
      " #   Column                           Non-Null Count  Dtype  \n",
      "---  ------                           --------------  -----  \n",
      " 0   business_status                  24047 non-null  object \n",
      " 1   icon                             24145 non-null  object \n",
      " 2   name                             24145 non-null  object \n",
      " 3   photos                           13549 non-null  object \n",
      " 4   place_id                         24145 non-null  object \n",
      " 5   price_level                      3005 non-null   float64\n",
      " 6   rating                           15251 non-null  float64\n",
      " 7   reference                        24145 non-null  object \n",
      " 8   scope                            24145 non-null  object \n",
      " 9   types                            24145 non-null  object \n",
      " 10  user_ratings_total               15251 non-null  float64\n",
      " 11  vicinity                         24145 non-null  object \n",
      " 12  geometry.location.lat            24145 non-null  float64\n",
      " 13  geometry.location.lng            24145 non-null  float64\n",
      " 14  geometry.viewport.northeast.lat  24145 non-null  float64\n",
      " 15  geometry.viewport.northeast.lng  24145 non-null  float64\n",
      " 16  geometry.viewport.southwest.lat  24145 non-null  float64\n",
      " 17  geometry.viewport.southwest.lng  24145 non-null  float64\n",
      " 18  opening_hours.open_now           14221 non-null  object \n",
      " 19  plus_code.compound_code          23908 non-null  object \n",
      " 20  plus_code.global_code            23908 non-null  object \n",
      " 21  permanently_closed               302 non-null    object \n",
      " 22  mapped_location                  24145 non-null  object \n",
      " 23  address                          24145 non-null  object \n",
      "dtypes: float64(9), object(15)\n",
      "memory usage: 4.4+ MB\n"
     ]
    }
   ],
   "source": [
    "all_places.info()"
   ]
  },
  {
   "cell_type": "markdown",
   "metadata": {},
   "source": [
    "#### Clean & format the dataframe for analysis"
   ]
  },
  {
   "cell_type": "code",
   "execution_count": 11,
   "metadata": {
    "scrolled": true
   },
   "outputs": [
    {
     "data": {
      "text/plain": [
       "Index(['business_status', 'icon', 'name', 'photos', 'place_id', 'price_level',\n",
       "       'rating', 'reference', 'scope', 'types', 'user_ratings_total',\n",
       "       'vicinity', 'geometry.location.lat', 'geometry.location.lng',\n",
       "       'geometry.viewport.northeast.lat', 'geometry.viewport.northeast.lng',\n",
       "       'geometry.viewport.southwest.lat', 'geometry.viewport.southwest.lng',\n",
       "       'opening_hours.open_now', 'plus_code.compound_code',\n",
       "       'plus_code.global_code', 'permanently_closed', 'mapped_location',\n",
       "       'address'],\n",
       "      dtype='object')"
      ]
     },
     "execution_count": 11,
     "metadata": {},
     "output_type": "execute_result"
    }
   ],
   "source": [
    "all_places.columns"
   ]
  },
  {
   "cell_type": "code",
   "execution_count": 12,
   "metadata": {},
   "outputs": [],
   "source": [
    "# Drop unecessary columns\n",
    "all_places = all_places.drop(columns=['place_id', 'reference','scope','plus_code.global_code', \n",
    "     'geometry.viewport.northeast.lat', 'geometry.viewport.northeast.lng',\n",
    "       'geometry.viewport.southwest.lat', 'geometry.viewport.southwest.lng',\n",
    "     'opening_hours.open_now','photos','permanently_closed'])"
   ]
  },
  {
   "cell_type": "code",
   "execution_count": 13,
   "metadata": {},
   "outputs": [],
   "source": [
    "# Re-order columns for convenience\n",
    "all_places=all_places[['mapped_location', 'address',\n",
    "              'business_status',\n",
    "               'name',\n",
    "               'vicinity', \n",
    "                'geometry.location.lat',\n",
    "                'geometry.location.lng', \n",
    "                'plus_code.compound_code',\n",
    "                'types',\n",
    "                'icon',\n",
    "                'rating',\n",
    "                'user_ratings_total',\n",
    "                'price_level']]"
   ]
  },
  {
   "cell_type": "code",
   "execution_count": 14,
   "metadata": {},
   "outputs": [],
   "source": [
    "#Re-name columns for clarity\n",
    "all_places = all_places.rename(columns={\"mapped_location\":\"violation_coord\",\"address\":\"violation_address\",\n",
    "                           \"vicinity\":\"google_address\",\"geometry.location.lat\":\"google_lat\",\n",
    "                           \"geometry.location.lng\":\"google_lng\",\"plus_code.compound_code\":\"plus_code\"})"
   ]
  },
  {
   "cell_type": "markdown",
   "metadata": {},
   "source": [
    "#### The icon column links to the image file of the glyph assigned to that location by Google. We could possibly use this in analysis to make more accurate guesses about the type of establishment."
   ]
  },
  {
   "cell_type": "code",
   "execution_count": 15,
   "metadata": {},
   "outputs": [
    {
     "data": {
      "text/plain": [
       "array(['https://maps.gstatic.com/mapfiles/place_api/icons/v1/png_71/restaurant-71.png',\n",
       "       'https://maps.gstatic.com/mapfiles/place_api/icons/v1/png_71/generic_business-71.png',\n",
       "       'https://maps.gstatic.com/mapfiles/place_api/icons/v1/png_71/shopping-71.png',\n",
       "       'https://maps.gstatic.com/mapfiles/place_api/icons/v1/png_71/school-71.png',\n",
       "       'https://maps.gstatic.com/mapfiles/place_api/icons/v1/png_71/worship_general-71.png',\n",
       "       'https://maps.gstatic.com/mapfiles/place_api/icons/v1/png_71/hospital-71.png',\n",
       "       'https://maps.gstatic.com/mapfiles/place_api/icons/v1/png_71/bar-71.png',\n",
       "       'https://maps.gstatic.com/mapfiles/place_api/icons/v1/png_71/lodging-71.png',\n",
       "       'https://maps.gstatic.com/mapfiles/place_api/icons/v1/png_71/civic_building-71.png',\n",
       "       'https://maps.gstatic.com/mapfiles/place_api/icons/v1/png_71/atm-71.png',\n",
       "       'https://maps.gstatic.com/mapfiles/place_api/icons/v1/png_71/pharmacy-71.png',\n",
       "       'https://maps.gstatic.com/mapfiles/place_api/icons/v1/png_71/cemetery_grave-71.png',\n",
       "       'https://maps.gstatic.com/mapfiles/place_api/icons/v1/png_71/parking-71.png',\n",
       "       'https://maps.gstatic.com/mapfiles/place_api/icons/v1/png_71/cafe-71.png',\n",
       "       'https://maps.gstatic.com/mapfiles/place_api/icons/v1/png_71/gas_station-71.png',\n",
       "       'https://maps.gstatic.com/mapfiles/place_api/icons/v1/png_71/park-71.png',\n",
       "       'https://maps.gstatic.com/mapfiles/place_api/icons/v1/png_71/bank-71.png',\n",
       "       'https://maps.gstatic.com/mapfiles/place_api/icons/v1/png_71/police-71.png',\n",
       "       'https://maps.gstatic.com/mapfiles/place_api/icons/v1/png_71/post_office-71.png',\n",
       "       'https://maps.gstatic.com/mapfiles/place_api/icons/v1/png_71/movies-71.png',\n",
       "       'https://maps.gstatic.com/mapfiles/place_api/icons/v1/png_71/museum-71.png',\n",
       "       'https://maps.gstatic.com/mapfiles/place_api/icons/v1/png_71/bus-71.png',\n",
       "       'https://maps.gstatic.com/mapfiles/place_api/icons/v1/png_71/golf-71.png',\n",
       "       'https://maps.gstatic.com/mapfiles/place_api/icons/v1/png_71/worship_jewish-71.png',\n",
       "       'https://maps.gstatic.com/mapfiles/place_api/icons/v1/png_71/camping-71.png',\n",
       "       'https://maps.gstatic.com/mapfiles/place_api/icons/v1/png_71/stadium-71.png',\n",
       "       'https://maps.gstatic.com/mapfiles/place_api/icons/v1/png_71/worship_dharma-71.png',\n",
       "       'https://maps.gstatic.com/mapfiles/place_api/icons/v1/png_71/airport-71.png',\n",
       "       'https://maps.gstatic.com/mapfiles/place_api/icons/v1/png_71/worship_hindu-71.png',\n",
       "       'https://maps.gstatic.com/mapfiles/place_api/icons/v1/png_71/worship_islam-71.png',\n",
       "       'https://maps.gstatic.com/mapfiles/place_api/icons/v1/png_71/geocode-71.png',\n",
       "       'https://maps.gstatic.com/mapfiles/place_api/icons/v1/png_71/library-71.png'],\n",
       "      dtype=object)"
      ]
     },
     "execution_count": 15,
     "metadata": {},
     "output_type": "execute_result"
    }
   ],
   "source": [
    "all_places.icon.unique()"
   ]
  },
  {
   "cell_type": "code",
   "execution_count": 16,
   "metadata": {},
   "outputs": [],
   "source": [
    "#Extract the icon name\n",
    "all_places['icon'] = all_places['icon'].str.extract(r'^.*\\/(.*)-71.png')"
   ]
  },
  {
   "cell_type": "code",
   "execution_count": 17,
   "metadata": {},
   "outputs": [
    {
     "data": {
      "text/plain": [
       "generic_business    13493\n",
       "shopping             3746\n",
       "restaurant           2428\n",
       "school                802\n",
       "atm                   484\n",
       "worship_general       454\n",
       "gas_station           403\n",
       "civic_building        386\n",
       "lodging               315\n",
       "bar                   306\n",
       "park                  219\n",
       "cafe                  203\n",
       "parking               182\n",
       "pharmacy              165\n",
       "bank                  150\n",
       "bus                   134\n",
       "cemetery_grave         67\n",
       "hospital               58\n",
       "museum                 32\n",
       "police                 25\n",
       "golf                   24\n",
       "post_office            22\n",
       "movies                 15\n",
       "library                 8\n",
       "geocode                 5\n",
       "stadium                 4\n",
       "worship_islam           3\n",
       "camping                 3\n",
       "worship_dharma          3\n",
       "airport                 2\n",
       "worship_jewish          2\n",
       "worship_hindu           2\n",
       "Name: icon, dtype: int64"
      ]
     },
     "execution_count": 17,
     "metadata": {},
     "output_type": "execute_result"
    }
   ],
   "source": [
    "all_places['icon'].value_counts()"
   ]
  },
  {
   "cell_type": "markdown",
   "metadata": {},
   "source": [
    "### Find how many records match on violation address vs google address."
   ]
  },
  {
   "cell_type": "code",
   "execution_count": 18,
   "metadata": {},
   "outputs": [
    {
     "data": {
      "text/html": [
       "<div>\n",
       "<style scoped>\n",
       "    .dataframe tbody tr th:only-of-type {\n",
       "        vertical-align: middle;\n",
       "    }\n",
       "\n",
       "    .dataframe tbody tr th {\n",
       "        vertical-align: top;\n",
       "    }\n",
       "\n",
       "    .dataframe thead th {\n",
       "        text-align: right;\n",
       "    }\n",
       "</style>\n",
       "<table border=\"1\" class=\"dataframe\">\n",
       "  <thead>\n",
       "    <tr style=\"text-align: right;\">\n",
       "      <th></th>\n",
       "      <th>violation_coord</th>\n",
       "      <th>violation_address</th>\n",
       "      <th>business_status</th>\n",
       "      <th>name</th>\n",
       "      <th>google_address</th>\n",
       "      <th>google_lat</th>\n",
       "      <th>google_lng</th>\n",
       "      <th>plus_code</th>\n",
       "      <th>types</th>\n",
       "      <th>icon</th>\n",
       "      <th>rating</th>\n",
       "      <th>user_ratings_total</th>\n",
       "      <th>price_level</th>\n",
       "    </tr>\n",
       "  </thead>\n",
       "  <tbody>\n",
       "    <tr>\n",
       "      <th>0</th>\n",
       "      <td>(36.148664, -86.80740139999999)</td>\n",
       "      <td>2400 Elliston Pl, Nashville</td>\n",
       "      <td>OPERATIONAL</td>\n",
       "      <td>Martin's Bar-B-Que Joint</td>\n",
       "      <td>2400 Elliston Place, Nashville</td>\n",
       "      <td>36.148618</td>\n",
       "      <td>-86.807367</td>\n",
       "      <td>45XV+C3 Nashville, TN, USA</td>\n",
       "      <td>[restaurant, food, point_of_interest, establis...</td>\n",
       "      <td>restaurant</td>\n",
       "      <td>4.4</td>\n",
       "      <td>783.0</td>\n",
       "      <td>2.0</td>\n",
       "    </tr>\n",
       "    <tr>\n",
       "      <th>1</th>\n",
       "      <td>(36.148664, -86.80740139999999)</td>\n",
       "      <td>2400 Elliston Pl, Nashville</td>\n",
       "      <td>OPERATIONAL</td>\n",
       "      <td>lunescent</td>\n",
       "      <td>216 Reidhurst Avenue, Nashville</td>\n",
       "      <td>36.148448</td>\n",
       "      <td>-86.807697</td>\n",
       "      <td>45XR+9W Nashville, TN, USA</td>\n",
       "      <td>[food, point_of_interest, establishment]</td>\n",
       "      <td>generic_business</td>\n",
       "      <td>5.0</td>\n",
       "      <td>3.0</td>\n",
       "      <td>NaN</td>\n",
       "    </tr>\n",
       "    <tr>\n",
       "      <th>2</th>\n",
       "      <td>(36.148664, -86.80740139999999)</td>\n",
       "      <td>2400 Elliston Pl, Nashville</td>\n",
       "      <td>OPERATIONAL</td>\n",
       "      <td>Music row</td>\n",
       "      <td>2400 West End Avenue, Nashville</td>\n",
       "      <td>36.148150</td>\n",
       "      <td>-86.807169</td>\n",
       "      <td>45XV+74 Nashville, TN, USA</td>\n",
       "      <td>[electronics_store, home_goods_store, point_of...</td>\n",
       "      <td>shopping</td>\n",
       "      <td>NaN</td>\n",
       "      <td>NaN</td>\n",
       "      <td>NaN</td>\n",
       "    </tr>\n",
       "    <tr>\n",
       "      <th>3</th>\n",
       "      <td>(36.148664, -86.80740139999999)</td>\n",
       "      <td>2400 Elliston Pl, Nashville</td>\n",
       "      <td>OPERATIONAL</td>\n",
       "      <td>Syntel Inc</td>\n",
       "      <td>205 Reidhurst Avenue # 200, Nashville</td>\n",
       "      <td>36.148351</td>\n",
       "      <td>-86.808000</td>\n",
       "      <td>45XR+8R Nashville, TN, USA</td>\n",
       "      <td>[point_of_interest, establishment]</td>\n",
       "      <td>generic_business</td>\n",
       "      <td>NaN</td>\n",
       "      <td>NaN</td>\n",
       "      <td>NaN</td>\n",
       "    </tr>\n",
       "    <tr>\n",
       "      <th>4</th>\n",
       "      <td>(36.148664, -86.80740139999999)</td>\n",
       "      <td>2400 Elliston Pl, Nashville</td>\n",
       "      <td>OPERATIONAL</td>\n",
       "      <td>Nicholson Cleaners</td>\n",
       "      <td>2410 Elliston Place, Nashville</td>\n",
       "      <td>36.148288</td>\n",
       "      <td>-86.807954</td>\n",
       "      <td>45XR+8R Nashville, TN, USA</td>\n",
       "      <td>[laundry, point_of_interest, establishment]</td>\n",
       "      <td>generic_business</td>\n",
       "      <td>4.2</td>\n",
       "      <td>15.0</td>\n",
       "      <td>NaN</td>\n",
       "    </tr>\n",
       "  </tbody>\n",
       "</table>\n",
       "</div>"
      ],
      "text/plain": [
       "                   violation_coord            violation_address  \\\n",
       "0  (36.148664, -86.80740139999999)  2400 Elliston Pl, Nashville   \n",
       "1  (36.148664, -86.80740139999999)  2400 Elliston Pl, Nashville   \n",
       "2  (36.148664, -86.80740139999999)  2400 Elliston Pl, Nashville   \n",
       "3  (36.148664, -86.80740139999999)  2400 Elliston Pl, Nashville   \n",
       "4  (36.148664, -86.80740139999999)  2400 Elliston Pl, Nashville   \n",
       "\n",
       "  business_status                      name  \\\n",
       "0     OPERATIONAL  Martin's Bar-B-Que Joint   \n",
       "1     OPERATIONAL                 lunescent   \n",
       "2     OPERATIONAL                 Music row   \n",
       "3     OPERATIONAL                Syntel Inc   \n",
       "4     OPERATIONAL        Nicholson Cleaners   \n",
       "\n",
       "                          google_address  google_lat  google_lng  \\\n",
       "0         2400 Elliston Place, Nashville   36.148618  -86.807367   \n",
       "1        216 Reidhurst Avenue, Nashville   36.148448  -86.807697   \n",
       "2        2400 West End Avenue, Nashville   36.148150  -86.807169   \n",
       "3  205 Reidhurst Avenue # 200, Nashville   36.148351  -86.808000   \n",
       "4         2410 Elliston Place, Nashville   36.148288  -86.807954   \n",
       "\n",
       "                    plus_code  \\\n",
       "0  45XV+C3 Nashville, TN, USA   \n",
       "1  45XR+9W Nashville, TN, USA   \n",
       "2  45XV+74 Nashville, TN, USA   \n",
       "3  45XR+8R Nashville, TN, USA   \n",
       "4  45XR+8R Nashville, TN, USA   \n",
       "\n",
       "                                               types              icon  \\\n",
       "0  [restaurant, food, point_of_interest, establis...        restaurant   \n",
       "1           [food, point_of_interest, establishment]  generic_business   \n",
       "2  [electronics_store, home_goods_store, point_of...          shopping   \n",
       "3                 [point_of_interest, establishment]  generic_business   \n",
       "4        [laundry, point_of_interest, establishment]  generic_business   \n",
       "\n",
       "   rating  user_ratings_total  price_level  \n",
       "0     4.4               783.0          2.0  \n",
       "1     5.0                 3.0          NaN  \n",
       "2     NaN                 NaN          NaN  \n",
       "3     NaN                 NaN          NaN  \n",
       "4     4.2                15.0          NaN  "
      ]
     },
     "execution_count": 18,
     "metadata": {},
     "output_type": "execute_result"
    }
   ],
   "source": [
    "all_places.head()"
   ]
  },
  {
   "cell_type": "markdown",
   "metadata": {},
   "source": [
    "#### Test Fuzzy Matching"
   ]
  },
  {
   "cell_type": "code",
   "execution_count": 21,
   "metadata": {},
   "outputs": [],
   "source": [
    "fuzzy_test = all_places.head(50)"
   ]
  },
  {
   "cell_type": "code",
   "execution_count": null,
   "metadata": {},
   "outputs": [],
   "source": []
  }
 ],
 "metadata": {
  "kernelspec": {
   "display_name": "Python 3",
   "language": "python",
   "name": "python3"
  },
  "language_info": {
   "codemirror_mode": {
    "name": "ipython",
    "version": 3
   },
   "file_extension": ".py",
   "mimetype": "text/x-python",
   "name": "python",
   "nbconvert_exporter": "python",
   "pygments_lexer": "ipython3",
   "version": "3.8.3"
  }
 },
 "nbformat": 4,
 "nbformat_minor": 4
}
